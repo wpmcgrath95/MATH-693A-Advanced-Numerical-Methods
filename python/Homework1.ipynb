{
 "cells": [
  {
   "cell_type": "code",
   "execution_count": 1,
   "source": [
    "import os\n",
    "import numpy as np\n",
    "import pandas as pd"
   ],
   "outputs": [],
   "metadata": {}
  },
  {
   "cell_type": "markdown",
   "source": [
    "# Setup"
   ],
   "metadata": {}
  },
  {
   "cell_type": "code",
   "execution_count": 2,
   "source": [
    "CURR_DIR = os.getcwd()\n",
    "CURR_DIR"
   ],
   "outputs": [
    {
     "output_type": "execute_result",
     "data": {
      "text/plain": [
       "'/Users/willmcgrath/Documents/GitHub/math_693A_class/MATH-693A-Advanced-Numerical-Methods/python'"
      ]
     },
     "metadata": {},
     "execution_count": 2
    }
   ],
   "metadata": {}
  },
  {
   "cell_type": "markdown",
   "source": [
    "# Problem 1\n",
    "\n",
    "### Program the steepest descent and Newton algorithms using the backtracking line search. Use them to minimize the Rosenbrock function $f(x,y)=10(y-x^2)^2 + (1-x)^2$. \n",
    "### Initial step length $\\alpha_{0} = 1$, $\\overline{\\alpha} = 1$, $\\rho = \\frac{1}{2}$, $c = 10^{-4}$. Use initial point $\\overline{x}_{0}^{T} = [1.2, 1.2]$ and then the more difficult point $\\overline{x}_{0}^{T} = [-1.2, 1]$. \n",
    "\n",
    "### The gradient and hessian of the Rosenbrock function is: \n",
    "### $\\nabla f = \\left[\\begin{array}{c} \\frac{\\partial f}{\\partial x} \\\\ \\frac{\\partial f}{\\partial y} \\end{array}\\right] = \\left[\\begin{array}{c} 40x^3 - 40xy +2x - 2 \\\\ 20(y-x^2) \\end{array}\\right]$,  &ensp; $\\nabla^{2} f = \\left[\\begin{array}{c} \\frac{\\partial f_{x}}{\\partial x} \\frac{\\partial f_{x}}{\\partial y} \\\\ \\frac{\\partial f_{y}}{\\partial x} \\frac{\\partial f_{y}}{\\partial y} \\end{array}\\right] = \\left[\\begin{array}{c} 120x^2 - 40y + 2 \\ -40x  \\\\ -40x \\ 20 \\end{array}\\right]$"
   ],
   "metadata": {}
  },
  {
   "cell_type": "markdown",
   "source": [
    "### a) Stop when: $|f(\\vec{x}_{k})| < 10^{-8}$. Print first 6 and last 6 values for  for steepest descent and Newton algorithms. Then determine the minimizer of the Rosenbrock function x*."
   ],
   "metadata": {}
  },
  {
   "cell_type": "markdown",
   "source": [],
   "metadata": {}
  },
  {
   "cell_type": "code",
   "execution_count": null,
   "source": [],
   "outputs": [],
   "metadata": {}
  }
 ],
 "metadata": {
  "orig_nbformat": 4,
  "language_info": {
   "name": "python",
   "version": "3.8.3",
   "mimetype": "text/x-python",
   "codemirror_mode": {
    "name": "ipython",
    "version": 3
   },
   "pygments_lexer": "ipython3",
   "nbconvert_exporter": "python",
   "file_extension": ".py"
  },
  "kernelspec": {
   "name": "python3",
   "display_name": "Python 3.8.3 64-bit ('.venv': venv)"
  },
  "interpreter": {
   "hash": "fcc29b29288bfae7cd1f9163060093e50b801b38050887fcfbbbb4f16f6170ab"
  }
 },
 "nbformat": 4,
 "nbformat_minor": 2
}