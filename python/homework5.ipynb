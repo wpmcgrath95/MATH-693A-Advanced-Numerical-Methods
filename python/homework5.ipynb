{
 "cells": [
  {
   "cell_type": "markdown",
   "source": [
    "# MATH 693A Advanced Numerical Methods: Computational Optimization HW 5\n",
    "###  By: Will McGrath\n"
   ],
   "metadata": {}
  },
  {
   "cell_type": "code",
   "execution_count": 3,
   "source": [
    "import numpy as np\n",
    "import pandas as pd\n",
    "import matplotlib.pyplot as plt"
   ],
   "outputs": [],
   "metadata": {}
  },
  {
   "cell_type": "markdown",
   "source": [
    "# Problem 1: Implement BFGS\n",
    "\n",
    "### Below is code which generates initial conditions for the BFGS method. For the initial condition, 18-dimensional initial condition returned by rosenbrock 2Nd(x,-1). \n",
    "\n",
    "### Compare against full Newton optimization — count number of “outer iterations” $x_k \\rightarrow x_{k+1}$ as well as “inner iterations” (linesearches/backtracking)."
   ],
   "metadata": {}
  },
  {
   "cell_type": "code",
   "execution_count": 27,
   "source": [
    "# Rosenbrock function\n",
    "def objective_func(xbar_k):\n",
    "    x = xbar_k[0]\n",
    "    y = xbar_k[1]\n",
    "\n",
    "    return 100*(y - x**2)**2 + (1 - x)**2\n",
    "\n",
    "def gradient(xbar_k):\n",
    "    x = xbar_k[0]\n",
    "    y = xbar_k[1]\n",
    "\n",
    "    return np.array([400*x**3 - 400*x*y + 2*x - 2, 200*(y - x**2)])\n",
    "\n",
    "def hessian(xbar_k):\n",
    "    x = xbar_k[0]\n",
    "    y = xbar_k[1]\n",
    "    \n",
    "    return np.array([[1200*x**2 - 400*y + 2, -400*x],[-400*x, 200]])"
   ],
   "outputs": [],
   "metadata": {}
  },
  {
   "cell_type": "code",
   "execution_count": 52,
   "source": [
    "def rosenbrock_2Nd(x, order):\n",
    "    # initial condition in R18\n",
    "    if order == -1:\n",
    "        xn = np.array([1, 1])\n",
    "        x0easy = np.array([1.2, 1.2])\n",
    "        x0e2 = (xn + x0easy) / 2 \n",
    "        x0e3 = (xn + x0e2) / 2 \n",
    "        x0e4 = (xn + x0e3) / 2 \n",
    "        x0hard = np.array([-1.2, 1])\n",
    "        x0h2   = (xn + x0hard) / 2\n",
    "        x0h3   = (xn + x0h2)  / 2\n",
    "        x0h4   = (xn + x0h3) / 2\n",
    "        x0h5   = 2 * x0hard\n",
    "\n",
    "        r = np.array([x0easy, x0e2, x0e3, x0e4, x0hard, x0h2, x0h3, x0h4, x0h5])\n",
    "\n",
    "        return r\n",
    "\n",
    "    # 1D versions\n",
    "    # the function and derivatives needed to compute the\n",
    "    # gradient and the Hessian\n",
    "    nx = len(x)\n",
    "    if order == 0:\n",
    "        r = np.zeros((1,1))\n",
    "        for k in range(0, nx-2, 2):\n",
    "            r = r + objective_func([k, k + 1])\n",
    "\n",
    "    elif order == 1:\n",
    "        r = np.zeros((nx,1))\n",
    "        for k in range(0, nx-2, 2):\n",
    "            r[k:k+1,1] = gradient([k, k + 1])\n",
    "\n",
    "    elif order == 2:\n",
    "        r = np.zeros((nx, nx))\n",
    "        for k in range(0, nx-2, 2):\n",
    "            r[k:k+1, k:k+1] = hessian([k, k + 1])\n",
    "\n",
    "    else:\n",
    "        print(f'Cannot compute derviates of order {order}')\n",
    "\n",
    "    return r"
   ],
   "outputs": [],
   "metadata": {}
  },
  {
   "cell_type": "code",
   "execution_count": 53,
   "source": [
    "rosenbrock_2Nd([2,2], 2)"
   ],
   "outputs": [
    {
     "output_type": "execute_result",
     "data": {
      "text/plain": [
       "array([[0., 0.],\n",
       "       [0., 0.]])"
      ]
     },
     "metadata": {},
     "execution_count": 53
    }
   ],
   "metadata": {}
  },
  {
   "cell_type": "markdown",
   "source": [
    "## Part A\n",
    "## Present the value of the following in a table for BFGS for each outer iteration:\n",
    "- Number of iterations\n",
    "- $f(x)$\n",
    "- $\\alpha$\n",
    "- $\\nabla{f(x_k)}$"
   ],
   "metadata": {}
  },
  {
   "cell_type": "code",
   "execution_count": null,
   "source": [],
   "outputs": [],
   "metadata": {}
  }
 ],
 "metadata": {
  "orig_nbformat": 4,
  "language_info": {
   "name": "python",
   "version": "3.8.3",
   "mimetype": "text/x-python",
   "codemirror_mode": {
    "name": "ipython",
    "version": 3
   },
   "pygments_lexer": "ipython3",
   "nbconvert_exporter": "python",
   "file_extension": ".py"
  },
  "kernelspec": {
   "name": "python3",
   "display_name": "Python 3.8.3 64-bit ('.venv': venv)"
  },
  "interpreter": {
   "hash": "fcc29b29288bfae7cd1f9163060093e50b801b38050887fcfbbbb4f16f6170ab"
  }
 },
 "nbformat": 4,
 "nbformat_minor": 2
}